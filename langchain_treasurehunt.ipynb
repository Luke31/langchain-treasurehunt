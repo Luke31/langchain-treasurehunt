{
 "cells": [
  {
   "cell_type": "markdown",
   "id": "680961e6",
   "metadata": {},
   "source": [
    "# Prerequisites"
   ]
  },
  {
   "cell_type": "markdown",
   "id": "a0287bcf",
   "metadata": {},
   "source": [
    "1. Start the treasure-hunt game server and frontend using `docker compose up`\n",
    "2. Observe the status of the game by opening http://localhost:8089/ in a browser\n",
    "\n",
    "- It gets the current status of the game from the server using websockets, so just leave the browser open and follow through this notebook\n",
    "- You can play the game in the browser (the buttons are just for debugging though)"
   ]
  },
  {
   "cell_type": "markdown",
   "id": "da83e883",
   "metadata": {},
   "source": [
    "## Setup OpenAI"
   ]
  },
  {
   "cell_type": "code",
   "execution_count": 1,
   "id": "6c4b5a14",
   "metadata": {},
   "outputs": [],
   "source": [
    "# getenv\n",
    "from dotenv import load_dotenv\n",
    "import os\n",
    "import openai\n",
    "\n",
    "load_dotenv()  # Load environment variables from .env file\n",
    "api_key = os.getenv(\"OPENAI_API_KEY\")\n",
    "openai.api_key = api_key"
   ]
  },
  {
   "cell_type": "markdown",
   "id": "906f8231",
   "metadata": {},
   "source": [
    "# Create model\n",
    "Use caching to save 💰"
   ]
  },
  {
   "cell_type": "code",
   "execution_count": 2,
   "id": "21300049",
   "metadata": {},
   "outputs": [],
   "source": [
    "import langchain\n",
    "from langchain.cache import InMemoryCache\n",
    "from langchain.llms.fake import FakeListLLM\n",
    "from langchain.chat_models import ChatOpenAI\n",
    "\n",
    "# model=\"text-curie-001\"\n",
    "model=\"gpt-3.5-turbo\"\n",
    "# model=\"\"\n",
    "llm = ChatOpenAI(model_name=model, temperature=0.7)\n",
    "#llm = FakeListLLM(responses=[\"UP\", \"DOWN\"])\n",
    "\n",
    "langchain.llm_cache = InMemoryCache()"
   ]
  },
  {
   "cell_type": "markdown",
   "id": "5ea5918a",
   "metadata": {},
   "source": [
    "## Chain to describe the game"
   ]
  },
  {
   "cell_type": "code",
   "execution_count": 3,
   "id": "dd243c3a",
   "metadata": {},
   "outputs": [],
   "source": [
    "from langchain.prompts import PromptTemplate\n",
    "from langchain.prompts.chat import (\n",
    "    ChatPromptTemplate,\n",
    "    SystemMessagePromptTemplate,\n",
    "    AIMessagePromptTemplate,\n",
    "    HumanMessagePromptTemplate,\n",
    ")\n",
    "from langchain.schema import (\n",
    "    AIMessage,\n",
    "    HumanMessage,\n",
    "    SystemMessage\n",
    ")\n",
    "\n",
    "system_message = \"\"\"\n",
    "You are on a 2D-grid and can see on the current and directly to adjacent cells. \n",
    "Goal: You need to find and pick up the treasure. Specify only the command for a given situation.\n",
    "You can only pick up the treasure if the current field has the treasure.\n",
    "Do NOT start the game again until you have found the treasure.\n",
    "\n",
    "Descriptions: w=wall, g=ground, t=treausre\n",
    "Available commands: UP DOWN LEFT RIGHT PICKUP_TREASURE\n",
    "Input command:\n",
    "\"\"\"\n",
    "system_message_prompt = SystemMessagePromptTemplate.from_template(system_message)\n",
    "human_template=\"Situation: current:{current}, up:{up}, down:{down}, left:{left}, right:{right}\"\n",
    "human_message_prompt = HumanMessagePromptTemplate.from_template(human_template)\n",
    "chat_prompt = ChatPromptTemplate.from_messages([system_message_prompt, human_message_prompt])\n"
   ]
  },
  {
   "cell_type": "code",
   "execution_count": 4,
   "id": "8bce68b8",
   "metadata": {},
   "outputs": [
    {
     "data": {
      "text/plain": [
       "AIMessage(content='Command: UP', additional_kwargs={}, example=False)"
      ]
     },
     "execution_count": 4,
     "metadata": {},
     "output_type": "execute_result"
    }
   ],
   "source": [
    "situation = {'current':'g','up':'t','down':'g','left':'g','right':'w'}\n",
    "llm(chat_prompt.format_prompt(**situation).to_messages())"
   ]
  },
  {
   "cell_type": "code",
   "execution_count": 5,
   "id": "9ad27f9b",
   "metadata": {},
   "outputs": [],
   "source": [
    "from langchain.chains import LLMChain\n",
    "chain = LLMChain(llm=llm, prompt=chat_prompt)"
   ]
  },
  {
   "cell_type": "code",
   "execution_count": 6,
   "id": "cdaf8630",
   "metadata": {},
   "outputs": [
    {
     "data": {
      "text/plain": [
       "'PICKUP_TREASURE'"
      ]
     },
     "execution_count": 6,
     "metadata": {},
     "output_type": "execute_result"
    }
   ],
   "source": [
    "situation = {'current':'t','up':'g','down':'g','left':'g','right':'w'}\n",
    "chain.run(**situation)"
   ]
  },
  {
   "cell_type": "markdown",
   "id": "5a7fda11",
   "metadata": {},
   "source": [
    "# APIChain to interact with the game\n",
    "\n",
    "We can pass a string with the api-description to APIChain. \n",
    "The README, has some curl examples, let's just pass that."
   ]
  },
  {
   "cell_type": "code",
   "execution_count": 18,
   "id": "d0949fcc",
   "metadata": {},
   "outputs": [
    {
     "name": "stdout",
     "output_type": "stream",
     "text": [
      "## langchain-treasurehunt\n",
      "You find yourself in a dimly lit dungeon, with your torch barely providing enough light to see your immediate surroundings. The flickering flame casts eerie shadows on the damp stone walls. Your objective is clear: find the treasure hidden within this labyrinthine maze. But beware, the limited visibility adds to the challenge as you cautiously navigate through the darkness. Will you discover the treasure before your torch fades away completely? The race against time begins.\n",
      "\n",
      "## Start game\n",
      "\n",
      "`docker compose up -d`\n",
      "\n",
      "## Observe game in browser\n",
      "\n",
      "http://127.0.0.1:8089/\n",
      "\n",
      "It will just show a list of buttons, that's fine.\n",
      "\n",
      "## Let's try and solve the game step-by-step using LangChain and OpenAI\n",
      "\n",
      "- Hint: Copy-paste `.env.sample` to `.env` and add your OpenAPI key \n",
      "\n",
      "1. `poetry install`\n",
      "2. `poetry run jupyter notebook`\n",
      "3. Open `langchain_treasurehunt.ipynb`\n",
      "4. Run cells step by step manually\n",
      "\n",
      "## Play the game using api\n",
      "For each request, the api returns the surrounding cells and current cells. It also returns the distance to the treasure:\n",
      "```\n",
      "\"adjacent_cells\": {\n",
      "    \"down\": \"G\",\n",
      "    \"left\": \"W\",\n",
      "    \"right\": \"W\",\n",
      "    \"up\": \"T\"\n",
      "  },\n",
      "\"current_cell\": \"G\",\n",
      "\"distance_to_treasure\": 2.8284271247461903\n",
      "```\n",
      "\n",
      "### Start game\n",
      "\n",
      "```\n",
      "curl http://localhost:8089/api/game?command=START\n",
      "{\n",
      "  \"adjacent_cells\": {\n",
      "    \"down\": \"W\",\n",
      "    \"left\": \"G\",\n",
      "    \"right\": \"W\",\n",
      "    \"up\": \"G\"\n",
      "  },\n",
      "  \"current_cell\": \"G\",\n",
      "  \"distance_to_treasure\": 2.8284271247461903\n",
      "}\n",
      "```\n",
      "\n",
      "### Move up\n",
      "\n",
      "```\n",
      "curl http://localhost:8089/api/game?command=UP\n",
      "{\n",
      "  \"adjacent_cells\": {\n",
      "    \"down\": \"G\",\n",
      "    \"left\": \"W\",\n",
      "    \"right\": \"W\",\n",
      "    \"up\": \"T\"\n",
      "  },\n",
      "  \"current_cell\": \"G\",\n",
      "  \"distance_to_treasure\": 1.0\n",
      "}\n",
      "```\n",
      "\n",
      "### Pick up the treasure\n",
      "\n",
      "```\n",
      "curl http://localhost:8089/api/game?command=PICK_UP\n",
      "{\n",
      "  \"message\": \"Treasure picked up!\"\n",
      "}\n",
      "```\n",
      "\n",
      "## Credits\n",
      "Game-description, flask-api server, react-app and nginx config created with help from ChatGPT.\n"
     ]
    }
   ],
   "source": [
    "with open('README.md', 'r') as file:\n",
    "    docs = file.read()\n",
    "print(docs)"
   ]
  },
  {
   "cell_type": "markdown",
   "id": "fbe1605b",
   "metadata": {},
   "source": [
    "### Ask it to execute certain commands for you\n",
    "Don't forget to observe the game status on http://localhost:8089/ while you execute these lines\n",
    "- Hint: As the game grid is randomly chose, an 'invalid move' might occur here as the playe can't move there."
   ]
  },
  {
   "cell_type": "code",
   "execution_count": 8,
   "id": "2198b779",
   "metadata": {},
   "outputs": [],
   "source": [
    "from langchain.chains import APIChain\n",
    "llm_api = ChatOpenAI(model_name=model, temperature=0)\n",
    "treasure_hunt_api = APIChain.from_llm_and_api_docs(llm_api, docs, verbose=True)"
   ]
  },
  {
   "cell_type": "code",
   "execution_count": 9,
   "id": "282ea9ba",
   "metadata": {},
   "outputs": [
    {
     "name": "stdout",
     "output_type": "stream",
     "text": [
      "\n",
      "\n",
      "\u001b[1m> Entering new APIChain chain...\u001b[0m\n",
      "\u001b[32;1m\u001b[1;3mhttp://localhost:8089/api/game?command=START\u001b[0m\n",
      "\u001b[33;1m\u001b[1;3m{\"adjacent_cells\":{\"down\":\"W\",\"left\":\"G\",\"right\":\"W\",\"up\":\"W\"},\"current_cell\":\"G\",\"distance_to_treasure\":2.23606797749979}\n",
      "\u001b[0m\n",
      "\n",
      "\u001b[1m> Finished chain.\u001b[0m\n"
     ]
    },
    {
     "data": {
      "text/plain": [
       "'The API response after starting the game includes the current cell, the distance to the treasure, and the adjacent cells in the up, down, left, and right directions.'"
      ]
     },
     "execution_count": 9,
     "metadata": {},
     "output_type": "execute_result"
    }
   ],
   "source": [
    "treasure_hunt_api.run('Start the game')"
   ]
  },
  {
   "cell_type": "code",
   "execution_count": 13,
   "id": "8fee387c",
   "metadata": {},
   "outputs": [
    {
     "name": "stdout",
     "output_type": "stream",
     "text": [
      "\n",
      "\n",
      "\u001b[1m> Entering new APIChain chain...\u001b[0m\n",
      "\u001b[32;1m\u001b[1;3mhttp://localhost:8089/api/game?command=LEFT&response_format=current_cell\u001b[0m\n",
      "\u001b[33;1m\u001b[1;3m{\"message\":\"Invalid move\"}\n",
      "\u001b[0m\n",
      "\n",
      "\u001b[1m> Finished chain.\u001b[0m\n"
     ]
    },
    {
     "data": {
      "text/plain": [
       "'Going left is an invalid move.'"
      ]
     },
     "execution_count": 13,
     "metadata": {},
     "output_type": "execute_result"
    }
   ],
   "source": [
    "treasure_hunt_api.run('Go LEFT')"
   ]
  },
  {
   "cell_type": "code",
   "execution_count": 14,
   "id": "e64c92b6",
   "metadata": {},
   "outputs": [
    {
     "name": "stdout",
     "output_type": "stream",
     "text": [
      "\n",
      "\n",
      "\u001b[1m> Entering new APIChain chain...\u001b[0m\n",
      "\u001b[32;1m\u001b[1;3mhttp://localhost:8089/api/game?command=UP&fields=adjacent_cells.up,current_cell,distance_to_treasure\u001b[0m\n",
      "\u001b[33;1m\u001b[1;3m{\"message\":\"Invalid move\"}\n",
      "\u001b[0m\n",
      "\n",
      "\u001b[1m> Finished chain.\u001b[0m\n"
     ]
    },
    {
     "data": {
      "text/plain": [
       "'The response from the API for the question \"Go UP\" is \"Invalid move\".'"
      ]
     },
     "execution_count": 14,
     "metadata": {},
     "output_type": "execute_result"
    }
   ],
   "source": [
    "treasure_hunt_api.run('Go UP')"
   ]
  },
  {
   "cell_type": "code",
   "execution_count": 15,
   "id": "9123ea39",
   "metadata": {},
   "outputs": [
    {
     "name": "stdout",
     "output_type": "stream",
     "text": [
      "\n",
      "\n",
      "\u001b[1m> Entering new APIChain chain...\u001b[0m\n",
      "\u001b[32;1m\u001b[1;3mhttp://localhost:8089/api/game?command=PICK_UP\u001b[0m\n",
      "\u001b[33;1m\u001b[1;3m{\"message\":\"No treasure at the current location\"}\n",
      "\u001b[0m\n",
      "\n",
      "\u001b[1m> Finished chain.\u001b[0m\n"
     ]
    },
    {
     "data": {
      "text/plain": [
       "'The API response states that there is no treasure at the current location.'"
      ]
     },
     "execution_count": 15,
     "metadata": {},
     "output_type": "execute_result"
    }
   ],
   "source": [
    "treasure_hunt_api.run('Pick up the treasure.')"
   ]
  },
  {
   "cell_type": "markdown",
   "id": "4373feb0",
   "metadata": {},
   "source": [
    "## Agent: automate it by directly providing requests-tool to agent\n"
   ]
  },
  {
   "cell_type": "code",
   "execution_count": 27,
   "id": "3202d0a0",
   "metadata": {},
   "outputs": [],
   "source": [
    "from langchain.agents import initialize_agent\n",
    "from langchain.agents import AgentType\n",
    "from langchain.agents import load_tools\n",
    "from langchain.chat_models import ChatOpenAI\n",
    "\n",
    "llm = ChatOpenAI(model_name=model, temperature=0)\n",
    "tools = load_tools([\"requests_all\"])\n",
    "\n",
    "prefix = f\"\"\"\n",
    "You are on a 2D-grid and can see on the current and directly to adjacent cells. \n",
    "Goal: You need to find and pick up the treasure. Specify only the command for a given situation.\n",
    "\n",
    "Rules of the game:\n",
    "- Cell descriptions: W=wall, G=ground, T=treausre\n",
    "- Available commands: UP DOWN LEFT RIGHT PICKUP_TREASURE\n",
    "- You can only pick up the treasure if the current cell has the treasure on it and is not a ground.\n",
    "- Do NOT attempt to pick up the treasure if it's in an adjacent cell. Wait until you have reached it.\n",
    "- Do NOT walk towards adjacent cells with walls. Wall-cells are marked by the letter 'W'.\n",
    "- Do NOT start the game again until you have found the treasure.\n",
    "\n",
    "Keep in mind:\n",
    "- Check your surroundings carefully to decide the next move.\n",
    "- Remember on what cells you have been and include it in your thoughts.\n",
    "- Solve the game step-by-step.\n",
    "- Don't repeat the same invalid moves.\n",
    "\n",
    "Call following API only using GET query-strings accordingly {docs}\n",
    "\"\"\"\n",
    "agent = initialize_agent(tools,\n",
    "                         llm,\n",
    "                         agent=AgentType.ZERO_SHOT_REACT_DESCRIPTION,\n",
    "                         verbose=True,\n",
    "                         max_execution_time=90,\n",
    "                         max_iterations=30)\n"
   ]
  },
  {
   "cell_type": "code",
   "execution_count": 28,
   "id": "d3935f74",
   "metadata": {},
   "outputs": [
    {
     "name": "stdout",
     "output_type": "stream",
     "text": [
      "\n",
      "\n",
      "\u001b[1m> Entering new AgentExecutor chain...\u001b[0m\n",
      "\u001b[32;1m\u001b[1;3mWe need to start the game and then find the treasure by making moves based on the adjacent cells and current cell information provided by the API.\n",
      "Action: requests_get\n",
      "Action Input: http://localhost:8089/api/game?command=START\u001b[0m\n",
      "Observation: \u001b[36;1m\u001b[1;3m{\"adjacent_cells\":{\"down\":\"W\",\"left\":\"G\",\"right\":\"W\",\"up\":\"W\"},\"current_cell\":\"G\",\"distance_to_treasure\":2.23606797749979}\n",
      "\u001b[0m\n",
      "Thought:\u001b[32;1m\u001b[1;3mWe need to move up to get closer to the treasure.\n",
      "Action: requests_get\n",
      "Action Input: http://localhost:8089/api/game?command=UP\u001b[0m\n",
      "Observation: \u001b[36;1m\u001b[1;3m{\"adjacent_cells\":{\"down\":\"W\",\"left\":\"G\",\"right\":\"W\",\"up\":\"W\"},\"current_cell\":\"G\",\"distance_to_treasure\":2.23606797749979,\"message\":\"Invalid move\"}\n",
      "\u001b[0m\n",
      "Thought:\u001b[32;1m\u001b[1;3mWe cannot move up as there is a wall. We need to move right instead.\n",
      "Action: requests_get\n",
      "Action Input: http://localhost:8089/api/game?command=RIGHT\u001b[0m\n",
      "Observation: \u001b[36;1m\u001b[1;3m{\"adjacent_cells\":{\"down\":\"W\",\"left\":\"G\",\"right\":\"W\",\"up\":\"W\"},\"current_cell\":\"G\",\"distance_to_treasure\":2.23606797749979,\"message\":\"Invalid move\"}\n",
      "\u001b[0m\n",
      "Thought:\u001b[32;1m\u001b[1;3mWe cannot move right as there is a wall. We need to move down instead.\n",
      "Action: requests_get\n",
      "Action Input: http://localhost:8089/api/game?command=DOWN\u001b[0m\n",
      "Observation: \u001b[36;1m\u001b[1;3m{\"adjacent_cells\":{\"down\":\"W\",\"left\":\"G\",\"right\":\"W\",\"up\":\"W\"},\"current_cell\":\"G\",\"distance_to_treasure\":2.23606797749979,\"message\":\"Invalid move\"}\n",
      "\u001b[0m\n",
      "Thought:\u001b[32;1m\u001b[1;3mWe cannot move down as there is a wall. We need to move left instead.\n",
      "Action: requests_get\n",
      "Action Input: http://localhost:8089/api/game?command=LEFT\u001b[0m\n",
      "Observation: \u001b[36;1m\u001b[1;3m{\"adjacent_cells\":{\"down\":\"W\",\"left\":\"G\",\"right\":\"G\",\"up\":\"G\"},\"current_cell\":\"G\",\"distance_to_treasure\":2.0}\n",
      "\u001b[0m\n",
      "Thought:\u001b[32;1m\u001b[1;3mWe are now closer to the treasure. We need to move up to get even closer.\n",
      "Action: requests_get\n",
      "Action Input: http://localhost:8089/api/game?command=UP\u001b[0m\n",
      "Observation: \u001b[36;1m\u001b[1;3m{\"adjacent_cells\":{\"down\":\"G\",\"left\":\"W\",\"right\":\"W\",\"up\":\"T\"},\"current_cell\":\"G\",\"distance_to_treasure\":1.0}\n",
      "\u001b[0m\n",
      "Thought:\u001b[32;1m\u001b[1;3mWe are now at the treasure. We need to pick it up.\n",
      "Action: requests_get\n",
      "Action Input: http://localhost:8089/api/game?command=PICK_UP\u001b[0m\n",
      "Observation: \u001b[36;1m\u001b[1;3m{\"adjacent_cells\":{\"down\":\"G\",\"left\":\"W\",\"right\":\"W\",\"up\":\"T\"},\"current_cell\":\"G\",\"distance_to_treasure\":1.0,\"message\":\"No treasure at the current location\"}\n",
      "\u001b[0m\n",
      "Thought:\u001b[32;1m\u001b[1;3mWe need to move up to the cell with the treasure and then pick it up.\n",
      "Action: requests_get\n",
      "Action Input: http://localhost:8089/api/game?command=UP\u001b[0m\n",
      "Observation: \u001b[36;1m\u001b[1;3m{\"adjacent_cells\":{\"down\":\"G\",\"left\":\"G\",\"right\":\"G\",\"up\":\"W\"},\"current_cell\":\"T\",\"distance_to_treasure\":0.0}\n",
      "\u001b[0m\n",
      "Thought:\u001b[32;1m\u001b[1;3mWe are now at the cell with the treasure. We need to pick it up.\n",
      "Action: requests_get\n",
      "Action Input: http://localhost:8089/api/game?command=PICK_UP\u001b[0m\n",
      "Observation: \u001b[36;1m\u001b[1;3m{\"message\":\"Treasure picked up!\"}\n",
      "\u001b[0m\n",
      "Thought:\u001b[32;1m\u001b[1;3mWe have successfully found and picked up the treasure.\n",
      "Final Answer: Treasure found and picked up!\u001b[0m\n",
      "\n",
      "\u001b[1m> Finished chain.\u001b[0m\n"
     ]
    },
    {
     "data": {
      "text/plain": [
       "'Treasure found and picked up!'"
      ]
     },
     "execution_count": 28,
     "metadata": {},
     "output_type": "execute_result"
    }
   ],
   "source": [
    "agent.run(prefix+\"\\nStart the game and find the treasure\")"
   ]
  },
  {
   "cell_type": "markdown",
   "id": "d20ab9ab",
   "metadata": {},
   "source": [
    "# Is gpt-4 better?\n",
    "`gpt-3.5-turbo` still walks in many walls and is not very good in interpreting distance. It also often tries to pick up the treasure exactly one field before reaching it. Maybe gpt-4 is better. Also using prompt engineering we could try and improve the agent.\n",
    "Still in limited beta: https://platform.openai.com/docs/models/gpt-4"
   ]
  },
  {
   "cell_type": "code",
   "execution_count": null,
   "id": "2d50d8c6",
   "metadata": {},
   "outputs": [],
   "source": []
  }
 ],
 "metadata": {
  "kernelspec": {
   "display_name": "Python 3 (ipykernel)",
   "language": "python",
   "name": "python3"
  },
  "language_info": {
   "codemirror_mode": {
    "name": "ipython",
    "version": 3
   },
   "file_extension": ".py",
   "mimetype": "text/x-python",
   "name": "python",
   "nbconvert_exporter": "python",
   "pygments_lexer": "ipython3",
   "version": "3.10.6"
  }
 },
 "nbformat": 4,
 "nbformat_minor": 5
}
